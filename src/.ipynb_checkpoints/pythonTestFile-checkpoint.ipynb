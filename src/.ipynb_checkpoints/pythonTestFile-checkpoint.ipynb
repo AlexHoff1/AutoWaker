{
 "cells": [
  {
   "cell_type": "code",
   "execution_count": 4,
   "metadata": {},
   "outputs": [
    {
     "name": "stdout",
     "output_type": "stream",
     "text": [
      "hi2\n"
     ]
    }
   ],
   "source": [
    "#Testing if the exception is caught elsewhere.\n",
    "\n",
    "try:\n",
    "    raise IOError('hi')\n",
    "except:\n",
    "    print('hi2')"
   ]
  },
  {
   "cell_type": "code",
   "execution_count": 1,
   "metadata": {},
   "outputs": [
    {
     "name": "stdout",
     "output_type": "stream",
     "text": [
      "['import logging\\n', 'import os\\n', 'import sys\\n', '\\n', 'from APIHandler import APIHandler\\n', 'from ConfigHandler import getPath\\n', 'from DataHandler import DataHandler\\n', 'from LogCreator import setupLogger\\n', 'from SleepChecker import SleepChecker\\n', 'from TimeHandler import today, now, startCheckTime, endCheckTime, stallAction\\n', 'from TokenGetter import TokenGetter\\n', 'from WakeUpCaller import WakeUpCaller\\n', '\\n', '\\n', '#Set the proper path\\n', 'os.chdir(getPath())\\n', '\\n', 'today_as_dt = today()\\n', '#This is the Fitbit URL to use for the API call\\n', 'FitbitURL = \"https://api.fitbit.com/1/user/-/sleep/date/\" + today_as_dt + \".json\"\\n', '\\n', '#Get and write the tokens from here\\n', \"s = [getPath(), 'Data', 'MyData_' + today_as_dt + '.txt']\\n\", '\\n', \"# Moderately tricky, and I'm not sure what it does when I revisited this.\\n\", 'OutFile = os.path.join(*s)\\n', '\\n', '\\n', 'def main(): \\n', '    \\n', '    LOG = setupLogger()\\n', \"    LOG.info('STARTING')\\n\", '    \\n', '    # wait until we should start. Make this into a class or method?\\n', '    # while now()>endCheckTime() or now()<startCheckTime():\\n', \"    #    LOG.info('Pinging every 120 seconds to check if the person should be asleep.')\\n\", '    #    stallAction(120)\\n', '    \\n', \"    key_getter = TokenGetter(os.path.join(getPath(),'tokens.txt'))\\n\", '    api_handler = APIHandler(FitbitURL, OutFile, key_getter)\\n', '    data_handler = DataHandler()\\n', '    \\n', '    #Make the API call\\n', '    APIResponse = api_handler.cancelIfAPICallBad()\\n', '    sleep_checker = SleepChecker(OutFile)\\n', \"    LOG.info('Polling until the user is asleep.');\\n\", '    while sleep_checker.isAwake():\\n', '        stallAction(600)  #Check every 10 minutes if the user is asleep.\\n', '        APIResponse = api_handler.cancelIfAPICallBad()\\n', '        sleeping, start_time = data_handler.getSleepStartTime(APIResponse)\\n', '        \\n', '    #The user is now asleep.\\n', '    \\n', \"    user = '-' # Temporary username being used.\\n\", '    \\n', \"    LOG.info('User ' + user + ' started sleeping at ' + str(start_time) + ' today.')\\n\", '    wake_up = WakeUpCaller()\\n', '    wake_up.callWake(start_time)\\n', '\\n', '\\n', '\\n', \"if __name__ == '__main__':\\n\", '    main()']\n"
     ]
    }
   ],
   "source": [
    "#Test how readlines works\n",
    "data = open('./Autowaker.py').readlines()\n",
    "print(data)"
   ]
  },
  {
   "cell_type": "code",
   "execution_count": 2,
   "metadata": {},
   "outputs": [
    {
     "name": "stdout",
     "output_type": "stream",
     "text": [
      "import logging\n"
     ]
    }
   ],
   "source": [
    "#Test if the strip method removes newlines\n",
    "print(data[0].strip())"
   ]
  },
  {
   "cell_type": "code",
   "execution_count": null,
   "metadata": {
    "collapsed": true
   },
   "outputs": [],
   "source": []
  }
 ],
 "metadata": {
  "kernelspec": {
   "display_name": "Python 3",
   "language": "python",
   "name": "python3"
  },
  "language_info": {
   "codemirror_mode": {
    "name": "ipython",
    "version": 3
   },
   "file_extension": ".py",
   "mimetype": "text/x-python",
   "name": "python",
   "nbconvert_exporter": "python",
   "pygments_lexer": "ipython3",
   "version": "3.6.2"
  }
 },
 "nbformat": 4,
 "nbformat_minor": 2
}
